{
 "cells": [
  {
   "cell_type": "markdown",
   "metadata": {
    "toc": true
   },
   "source": [
    "<h1>Table of Contents<span class=\"tocSkip\"></span></h1>\n",
    "<div class=\"toc\"><ul class=\"toc-item\"><li><span><a href=\"#Welcome-to-the--Training-Workshop!\" data-toc-modified-id=\"Welcome-to-the--Training-Workshop!-1\"><span class=\"toc-item-num\">1&nbsp;&nbsp;</span>Welcome to the <img style=\"display: inline\" src=\"graphics/VB_logo.jpg\" alt=\"VBiTE Logo\" width=\"75\"> Training Workshop!</a></span><ul class=\"toc-item\"><li><span><a href=\"#Contents\" data-toc-modified-id=\"Contents-1.1\"><span class=\"toc-item-num\">1.1&nbsp;&nbsp;</span>Contents</a></span><ul class=\"toc-item\"><li><span><a href=\"#Traits\" data-toc-modified-id=\"Traits-1.1.1\"><span class=\"toc-item-num\">1.1.1&nbsp;&nbsp;</span><a href=\"Traits.ipynb\" target=\"_blank\">Traits</a></a></span></li><li><span><a href=\"#Abundances\" data-toc-modified-id=\"Abundances-1.1.2\"><span class=\"toc-item-num\">1.1.2&nbsp;&nbsp;</span><a href=\"Abundances.ipynb\" target=\"_blank\">Abundances</a></a></span></li><li><span><a href=\"#Keep-your-workflow-organized\" data-toc-modified-id=\"Keep-your-workflow-organized-1.1.3\"><span class=\"toc-item-num\">1.1.3&nbsp;&nbsp;</span>Keep your workflow organized</a></span></li><li><span><a href=\"#Conventions-used-in-this-document\" data-toc-modified-id=\"Conventions-used-in-this-document-1.1.4\"><span class=\"toc-item-num\">1.1.4&nbsp;&nbsp;</span>Conventions used in this document</a></span></li><li><span><a href=\"#Other-Preliminaries\" data-toc-modified-id=\"Other-Preliminaries-1.1.5\"><span class=\"toc-item-num\">1.1.5&nbsp;&nbsp;</span>Other Preliminaries</a></span></li></ul></li></ul></li></ul></div>"
   ]
  },
  {
   "cell_type": "markdown",
   "metadata": {},
   "source": [
    "# Welcome to the <img style='display:inline;' src=\"graphics/VB_logo.jpg\" alt=\"VBiTE Logo\" width=\"75\"> Training Workshop!\n",
    "\n",
    "*Please visit the [landing page](https://vectorbite.github.io/VBiTraining) first if you have not already. It includes the workshop schedule and important instructions, including how to prepare for the workshop.*"
   ]
  },
  {
   "cell_type": "markdown",
   "metadata": {},
   "source": [
    "*You should build separate R scripts for each of the examples given in these topics*. For this, create separate `code`, `data`, `results` directories, and set your working directory (`setwd()`) to `code`.   \n",
    "\n",
    "Note that you will need to re-load packages (using `library()` or ``require()``) at the start of every such script file you develop.*\n",
    "\n",
    "You may use RStudio or any other code editor you prefer."
   ]
  },
  {
   "cell_type": "markdown",
   "metadata": {},
   "source": [
    "## Contents\n",
    "\n",
    "### [Traits](Traits.ipynb)\n",
    "### [Abundances](Abundances.ipynb)"
   ]
  },
  {
   "cell_type": "markdown",
   "metadata": {},
   "source": [
    "These [jupyter]((https://github.com/mhasoba/TheMulQuaBio/blob/master/notebooks/Intro.ipynb) notebooks contain the content of the [VectorBiTE 2018 Training workshop](https://vectorbite.github.io/VBiTraining/).\n",
    "\n",
    "These notebooks are accompanied by data and code on which you can practice your skills in your own time and during the training sessions. These materials are available at a [git repository](https://github.com/vectorbite/VBiTraining). If you do not use git, you may download the code, data, these notes, and other course materials from the repository at one go by clicking on the green \"Clone or download” button. You can then unzip the downloaded .zip and grab the files you need.\n",
    "\n",
    "It is important that you work through the exercises and problems in each chapter/section. This document does not tell you every single thing you need to know to perform the exercises in it. In programming and computing, you learn faster by trying to solve problems (including computer crashes!) on your own, often by liberally googling the problem!\n",
    "\n",
    "### Keep your workflow organized\n",
    "\n",
    "In the training sessions, you will practice many examples where you are required to write large blocks of code. Please get into the habit of writing code into text files with an appropriate extension (e.g., `.R` for `R` code, `.py` for `python` code, etc.). Furthermore, please keep all your code files organized in one or more directories (e.g., named `Code`). Similarly, some of these scripts will take data files as inputs, and output some results in the form of text or graphics. Please keep these inputs and outputs organized as well, inseparate directories (e.g., named `Data` and ` Results`) respectively. Your demonstrators and I will help you get\n",
    "set up and abide by this “workflow”.\n",
    "\n",
    "### Conventions used in this document\n",
    "\n",
    "Throughout these sessions, directory paths will be specified in UNIX (Mac, Linux) style, using `/` instead of the `\\` used in Windows. Also, in general, we will be using [relative paths](https://en.wikipedia.org/wiki/Path_(computing)) throughout the exercises and practicals (more on this later, but google it!).\n",
    "\n",
    "You will find all command line/console arguments, code snippets and output in coloured boxes like this:\n",
    "\n",
    "`>`\n",
    "\n",
    "### Other Preliminaries \n",
    "\n",
    "You will  learn multiple techniques here (NLLS, MLE and Bayesian methods, etc) through examples. These notes assume that you have already seen [lectures](https://github.com/vectorbite/VBiTraining/tree/master/lectures) on these and related topics.  \n",
    "\n",
    "> *You should build a separate R script for each of the examples given*. To do this most effectively, create separate `code`, `data`, `results` directories, and set your working directory (`setwd()`) to `code`.*   \n",
    ">\n",
    "> For example, for the [Trait Allometry example](Traits.ipynb#Allometric-scaling-of-traits), create a new R script file called `Allometry_nlls.R` and save it to your `code` directory. Then build your script for tackling this particular example in that file. \n",
    ">\n",
    "> Note that you will need to re-load packages (using `library()` or ``require``) at the start of every new script file you develop"
   ]
  }
 ],
 "metadata": {
  "anaconda-cloud": {},
  "kernelspec": {
   "display_name": "R",
   "language": "R",
   "name": "ir"
  },
  "language_info": {
   "codemirror_mode": "r",
   "file_extension": ".r",
   "mimetype": "text/x-r-source",
   "name": "R",
   "pygments_lexer": "r",
   "version": "3.4.4"
  },
  "latex_envs": {
   "LaTeX_envs_menu_present": true,
   "autoclose": false,
   "autocomplete": false,
   "bibliofile": "biblio.bib",
   "cite_by": "apalike",
   "current_citInitial": 1,
   "eqLabelWithNumbers": true,
   "eqNumInitial": 1,
   "hotkeys": {
    "equation": "Ctrl-E",
    "itemize": "Ctrl-I"
   },
   "labels_anchors": false,
   "latex_user_defs": false,
   "report_style_numbering": false,
   "user_envs_cfg": false
  },
  "toc": {
   "base_numbering": 1,
   "nav_menu": {
    "height": "51px",
    "width": "250px"
   },
   "number_sections": true,
   "sideBar": true,
   "skip_h1_title": false,
   "title_cell": "Table of Contents",
   "title_sidebar": "Contents",
   "toc_cell": true,
   "toc_position": {},
   "toc_section_display": "block",
   "toc_window_display": false
  }
 },
 "nbformat": 4,
 "nbformat_minor": 1
}
