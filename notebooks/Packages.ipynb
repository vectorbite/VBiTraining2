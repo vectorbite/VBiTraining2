{
 "cells": [
  {
   "cell_type": "markdown",
   "metadata": {},
   "source": [
    "# Repeatable Analysis, Packages, and Function Design"
   ]
  },
  {
   "cell_type": "markdown",
   "metadata": {},
   "source": [
    "## Packages"
   ]
  },
  {
   "cell_type": "markdown",
   "metadata": {},
   "source": [
    "Packages are something written by a better programmer to solve our problems so we don't have to, right?\n",
    "\n",
    "Well, kind of...\n",
    "But why can't **WE** be that \"better programmer\"?\n",
    "\n",
    "What makes them so special?\n",
    "\n",
    "The answer is nothing. Package designers are simply normal people who had a problem, solved it, and realised that they could help others do the same thing. What we're aiming to do today is to demystify packages and show that you can help countless people with not too much effort thanks to careful programming and a bit of foresight.\n",
    "\n",
    "<sub>Disclaimer: Some things about packages are a bit fiddly. I will not be held responsible for any loss of sanity or forehead damage to keyboards caused by looking at packages. Only use packages under parental supervision. Not suitable for ages 6 and above.</sub>"
   ]
  },
  {
   "cell_type": "markdown",
   "metadata": {},
   "source": [
    "### The structure of an R package"
   ]
  },
  {
   "cell_type": "markdown",
   "metadata": {},
   "source": [
    "An R package in its most basic form follows this structure:\n",
    "```\n",
    ". package_directory\n",
    "├── DESCRIPTION\n",
    "├── man\n",
    "│   └── stuff.Rd\n",
    "├── NAMESPACE\n",
    "└── R\n",
    "    └── stuff.R\n",
    "```\n",
    "\n",
    "The `DESCRIPTION` file contains the *important metadata about your package*. This includes the following information (though this is not by any means an exhaustive list):\n",
    "\n",
    "- Name\n",
    "- Title\n",
    "- Version\n",
    "- Description\n",
    "- Authors & Contributors\n",
    "- License\n",
    "- Dependencies (we will talk more about this one in a bit)\n",
    "\n",
    "The `NAMESPACE` file controls how the functions you have created are available to someone loading the package. Whilst this can be done by hand, it is often better to use a package like `roxygen2` to generate these for us."
   ]
  }
 ],
 "metadata": {
  "kernelspec": {
   "display_name": "R",
   "language": "R",
   "name": "ir"
  },
  "language_info": {
   "codemirror_mode": "r",
   "file_extension": ".r",
   "mimetype": "text/x-r-source",
   "name": "R",
   "pygments_lexer": "r",
   "version": "3.4.4"
  }
 },
 "nbformat": 4,
 "nbformat_minor": 2
}
