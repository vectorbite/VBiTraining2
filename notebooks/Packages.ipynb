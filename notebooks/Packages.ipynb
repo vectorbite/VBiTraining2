{
 "cells": [
  {
   "cell_type": "markdown",
   "metadata": {},
   "source": [
    "<!--NAVIGATION-->\n",
    "< | [Main Contents](https://vectorbite.github.io/VBiTraining2/) | >"
   ]
  },
  {
   "cell_type": "markdown",
   "metadata": {
    "slideshow": {
     "slide_type": "slide"
    }
   },
   "source": [
    "# Repeatable Analysis, Packages, and Function Design <span class=\"tocSkip\">"
   ]
  },
  {
   "cell_type": "markdown",
   "metadata": {
    "toc": true
   },
   "source": [
    "<h1>Table of Contents<span class=\"tocSkip\"></span></h1>\n",
    "<div class=\"toc\"><ul class=\"toc-item\"><li><span><a href=\"#Repeatable-Analysis\" data-toc-modified-id=\"Repeatable-Analysis-1\"><span class=\"toc-item-num\">1&nbsp;&nbsp;</span>Repeatable Analysis</a></span><ul class=\"toc-item\"><li><span><a href=\"#No-one-else-will-do-my-analysis,-why-would-I-need-it-to-be-scripted?\" data-toc-modified-id=\"No-one-else-will-do-my-analysis,-why-would-I-need-it-to-be-scripted?-1.1\"><span class=\"toc-item-num\">1.1&nbsp;&nbsp;</span>No-one else will do my analysis, why would I need it to be scripted?</a></span></li><li><span><a href=\"#Switching-to-a-repeatable-process-is-easy!\" data-toc-modified-id=\"Switching-to-a-repeatable-process-is-easy!-1.2\"><span class=\"toc-item-num\">1.2&nbsp;&nbsp;</span>Switching to a repeatable process is easy!</a></span></li><li><span><a href=\"#A-change-in-thinking\" data-toc-modified-id=\"A-change-in-thinking-1.3\"><span class=\"toc-item-num\">1.3&nbsp;&nbsp;</span>A change in thinking</a></span></li><li><span><a href=\"#An-example-of-a-repeatable-script\" data-toc-modified-id=\"An-example-of-a-repeatable-script-1.4\"><span class=\"toc-item-num\">1.4&nbsp;&nbsp;</span>An example of a repeatable script</a></span></li><li><span><a href=\"#First-Task\" data-toc-modified-id=\"First-Task-1.5\"><span class=\"toc-item-num\">1.5&nbsp;&nbsp;</span>First Task</a></span></li></ul></li><li><span><a href=\"#Packages\" data-toc-modified-id=\"Packages-2\"><span class=\"toc-item-num\">2&nbsp;&nbsp;</span>Packages</a></span><ul class=\"toc-item\"><li><span><a href=\"#The-multifunction-breadmaker\" data-toc-modified-id=\"The-multifunction-breadmaker-2.1\"><span class=\"toc-item-num\">2.1&nbsp;&nbsp;</span>The multifunction breadmaker</a></span></li><li><span><a href=\"#The-structure-of-an-R-package\" data-toc-modified-id=\"The-structure-of-an-R-package-2.2\"><span class=\"toc-item-num\">2.2&nbsp;&nbsp;</span>The structure of an R package</a></span></li></ul></li></ul></div>"
   ]
  },
  {
   "cell_type": "markdown",
   "metadata": {
    "slideshow": {
     "slide_type": "slide"
    }
   },
   "source": [
    "## Repeatable Analysis"
   ]
  },
  {
   "cell_type": "markdown",
   "metadata": {
    "slideshow": {
     "slide_type": "notes"
    }
   },
   "source": [
    "If we want someone to do a task in the same manner that we have, we can write them a list:"
   ]
  },
  {
   "cell_type": "markdown",
   "metadata": {
    "slideshow": {
     "slide_type": "subslide"
    }
   },
   "source": [
    "1. Measure ingredients\n",
    "2. Mix ingredients\n",
    "3. Knead dough\n",
    "4. Leave to rise\n",
    "5. Form dough into a loaf\n",
    "6. Prove dough\n",
    "7. Bake dough"
   ]
  },
  {
   "cell_type": "markdown",
   "metadata": {
    "slideshow": {
     "slide_type": "notes"
    }
   },
   "source": [
    "Now this is all well and good, but we leave a lot of room for human error. How long do they mix for? How do they know when the bread is risen? All of these steps have places for deviation from the process we went through to make our loaf.\n",
    "\n",
    "Wouldn't it be easier if we could give the other person a way to perform the same task again and again in exactly the same way? In this case, let's give our other person a breadmaker with one button - **Make Good Bread**. Now the instrictions are as follows:"
   ]
  },
  {
   "cell_type": "markdown",
   "metadata": {
    "slideshow": {
     "slide_type": "subslide"
    }
   },
   "source": [
    "1. Measure ingredients\n",
    "2. Empty into breadmaker\n",
    "3. Press **Make Good Bread** button"
   ]
  },
  {
   "cell_type": "markdown",
   "metadata": {
    "slideshow": {
     "slide_type": "notes"
    }
   },
   "source": [
    "This process is *repeatable* and means that as long as the right ingredients are used in the right quantities, the result should be the same each time.\n",
    "\n",
    "We can apply the same thinking to our data handling and analysis steps as we work. Rather than telling others \"I did x, then I did y\" we can instead say \"Run the file `analysis_and_plot.R`\". As long as they have the same data, they will get the same graphs!"
   ]
  },
  {
   "cell_type": "markdown",
   "metadata": {
    "slideshow": {
     "slide_type": "slide"
    }
   },
   "source": [
    "### No-one else will do my analysis, why would I need it to be scripted?"
   ]
  },
  {
   "cell_type": "markdown",
   "metadata": {
    "slideshow": {
     "slide_type": "notes"
    }
   },
   "source": [
    "There are some benefits to scripting your analysis even if you're only doing it for yourself. With a scripted workflow, we gain some major advantages for ourselves over running our R code line-by-line:"
   ]
  },
  {
   "cell_type": "markdown",
   "metadata": {
    "slideshow": {
     "slide_type": "subslide"
    }
   },
   "source": [
    "- We know the loaded data will be in the right place, and will be clean from any changes we make later in the script\n",
    "- We won't accidentally run the same transformation twice on the same vector\n",
    "- We can design our analysis PRIOR to actually collecting our data"
   ]
  },
  {
   "cell_type": "markdown",
   "metadata": {
    "slideshow": {
     "slide_type": "notes"
    }
   },
   "source": [
    "I've seen many days wasted by people running R code interactively (though there is naturally a place for that). I personally believe that the last point above is the most important. If we know the form and structure of the data we WILL get once we return from field research, we can have a pipeline already in place so the analysis can be performed immediately!"
   ]
  },
  {
   "cell_type": "markdown",
   "metadata": {
    "slideshow": {
     "slide_type": "slide"
    }
   },
   "source": [
    "### Switching to a repeatable process is easy!"
   ]
  },
  {
   "cell_type": "markdown",
   "metadata": {
    "slideshow": {
     "slide_type": "notes"
    }
   },
   "source": [
    "Take a look at the following R code (here we will be using the inbuilt `iris` dataset distributed with R): **(FW: replace iris with actual VT data)**"
   ]
  },
  {
   "cell_type": "code",
   "execution_count": 8,
   "metadata": {
    "slideshow": {
     "slide_type": "subslide"
    }
   },
   "outputs": [
    {
     "data": {
      "text/html": [
       "<table>\n",
       "<thead><tr><th scope=col>Sepal.Length</th><th scope=col>Sepal.Width</th><th scope=col>Petal.Length</th><th scope=col>Petal.Width</th><th scope=col>Species</th></tr></thead>\n",
       "<tbody>\n",
       "\t<tr><td>5.1   </td><td>3.5   </td><td>1.4   </td><td>0.2   </td><td>setosa</td></tr>\n",
       "\t<tr><td>4.9   </td><td>3.0   </td><td>1.4   </td><td>0.2   </td><td>setosa</td></tr>\n",
       "\t<tr><td>4.7   </td><td>3.2   </td><td>1.3   </td><td>0.2   </td><td>setosa</td></tr>\n",
       "\t<tr><td>4.6   </td><td>3.1   </td><td>1.5   </td><td>0.2   </td><td>setosa</td></tr>\n",
       "\t<tr><td>5.0   </td><td>3.6   </td><td>1.4   </td><td>0.2   </td><td>setosa</td></tr>\n",
       "\t<tr><td>5.4   </td><td>3.9   </td><td>1.7   </td><td>0.4   </td><td>setosa</td></tr>\n",
       "</tbody>\n",
       "</table>\n"
      ],
      "text/latex": [
       "\\begin{tabular}{r|lllll}\n",
       " Sepal.Length & Sepal.Width & Petal.Length & Petal.Width & Species\\\\\n",
       "\\hline\n",
       "\t 5.1    & 3.5    & 1.4    & 0.2    & setosa\\\\\n",
       "\t 4.9    & 3.0    & 1.4    & 0.2    & setosa\\\\\n",
       "\t 4.7    & 3.2    & 1.3    & 0.2    & setosa\\\\\n",
       "\t 4.6    & 3.1    & 1.5    & 0.2    & setosa\\\\\n",
       "\t 5.0    & 3.6    & 1.4    & 0.2    & setosa\\\\\n",
       "\t 5.4    & 3.9    & 1.7    & 0.4    & setosa\\\\\n",
       "\\end{tabular}\n"
      ],
      "text/markdown": [
       "\n",
       "Sepal.Length | Sepal.Width | Petal.Length | Petal.Width | Species | \n",
       "|---|---|---|---|---|---|\n",
       "| 5.1    | 3.5    | 1.4    | 0.2    | setosa | \n",
       "| 4.9    | 3.0    | 1.4    | 0.2    | setosa | \n",
       "| 4.7    | 3.2    | 1.3    | 0.2    | setosa | \n",
       "| 4.6    | 3.1    | 1.5    | 0.2    | setosa | \n",
       "| 5.0    | 3.6    | 1.4    | 0.2    | setosa | \n",
       "| 5.4    | 3.9    | 1.7    | 0.4    | setosa | \n",
       "\n",
       "\n"
      ],
      "text/plain": [
       "  Sepal.Length Sepal.Width Petal.Length Petal.Width Species\n",
       "1 5.1          3.5         1.4          0.2         setosa \n",
       "2 4.9          3.0         1.4          0.2         setosa \n",
       "3 4.7          3.2         1.3          0.2         setosa \n",
       "4 4.6          3.1         1.5          0.2         setosa \n",
       "5 5.0          3.6         1.4          0.2         setosa \n",
       "6 5.4          3.9         1.7          0.4         setosa "
      ]
     },
     "metadata": {},
     "output_type": "display_data"
    }
   ],
   "source": [
    "head(iris)"
   ]
  },
  {
   "cell_type": "code",
   "execution_count": 12,
   "metadata": {
    "slideshow": {
     "slide_type": "subslide"
    }
   },
   "outputs": [
    {
     "data": {
      "text/html": [
       "1.19933333333333"
      ],
      "text/latex": [
       "1.19933333333333"
      ],
      "text/markdown": [
       "1.19933333333333"
      ],
      "text/plain": [
       "[1] 1.199333"
      ]
     },
     "metadata": {},
     "output_type": "display_data"
    }
   ],
   "source": [
    "# Divide the sum of petal widths by the number of data entries to get the mean petal width\n",
    "petal_width_mean <- sum(iris$Petal.Width) / 150\n",
    "petal_width_mean"
   ]
  },
  {
   "cell_type": "markdown",
   "metadata": {
    "slideshow": {
     "slide_type": "notes"
    }
   },
   "source": [
    "This obviously works fine for the iris dataset, which we can confirm by running the inbuilt mean function:"
   ]
  },
  {
   "cell_type": "code",
   "execution_count": 13,
   "metadata": {
    "slideshow": {
     "slide_type": "fragment"
    }
   },
   "outputs": [
    {
     "data": {
      "text/html": [
       "1.19933333333333"
      ],
      "text/latex": [
       "1.19933333333333"
      ],
      "text/markdown": [
       "1.19933333333333"
      ],
      "text/plain": [
       "[1] 1.199333"
      ]
     },
     "metadata": {},
     "output_type": "display_data"
    }
   ],
   "source": [
    "mean(iris$Petal.Width)"
   ]
  },
  {
   "cell_type": "markdown",
   "metadata": {
    "slideshow": {
     "slide_type": "notes"
    }
   },
   "source": [
    "Now notice in our analogy at the top that there is still one place for things to go wrong: the ingredients. You cannot control what others try to put through your code. They may try to put a lobster in your breadmaker...or maybe cement. Either way they will not get the result they expected when the program is complete.\n",
    "\n",
    "So what happens if we try to run this on a different dataset, or in this case a subset?"
   ]
  },
  {
   "cell_type": "code",
   "execution_count": 32,
   "metadata": {
    "slideshow": {
     "slide_type": "subslide"
    }
   },
   "outputs": [
    {
     "data": {
      "text/html": [
       "0.382"
      ],
      "text/latex": [
       "0.382"
      ],
      "text/markdown": [
       "0.382"
      ],
      "text/plain": [
       "[1] 0.382"
      ]
     },
     "metadata": {},
     "output_type": "display_data"
    }
   ],
   "source": [
    "# Sample 50 elements of the iris dataset randomly\n",
    "iris_new <- iris[sample(1:150, 50, replace = FALSE),]\n",
    "\n",
    "# Calculate mean as before\n",
    "new_petal_width_mean <- sum(iris_new$Petal.Width) / 150\n",
    "new_petal_width_mean"
   ]
  },
  {
   "cell_type": "markdown",
   "metadata": {
    "slideshow": {
     "slide_type": "notes"
    }
   },
   "source": [
    "That doesn't look right! The mean of a randomly chosen subset should be similar to the mean of the original data. \n",
    "\n",
    "Let's check to see whether it's our calculation that's out:"
   ]
  },
  {
   "cell_type": "code",
   "execution_count": 33,
   "metadata": {
    "slideshow": {
     "slide_type": "fragment"
    }
   },
   "outputs": [
    {
     "data": {
      "text/html": [
       "1.146"
      ],
      "text/latex": [
       "1.146"
      ],
      "text/markdown": [
       "1.146"
      ],
      "text/plain": [
       "[1] 1.146"
      ]
     },
     "metadata": {},
     "output_type": "display_data"
    }
   ],
   "source": [
    "mean(iris_new$Petal.Width)"
   ]
  },
  {
   "cell_type": "markdown",
   "metadata": {
    "slideshow": {
     "slide_type": "notes"
    }
   },
   "source": [
    "Yeah that looks a lot more reasonable. But what went wrong?\n",
    "\n",
    "Can you see where the error may have arisen?"
   ]
  },
  {
   "cell_type": "markdown",
   "metadata": {
    "slideshow": {
     "slide_type": "slide"
    }
   },
   "source": [
    "### A change in thinking"
   ]
  },
  {
   "cell_type": "markdown",
   "metadata": {
    "slideshow": {
     "slide_type": "notes"
    }
   },
   "source": [
    "As I'm sure you spotted, our error was in using what is colloquially termed a *magic number*: **150**. We didn't consider for a second that the data running through our \"analysis\" was anything other than the data we were initially working with. As the mean is calculated by dividing the sum of the samples by the number of samples, and our original number of samples was 150, this didn't change when we changed the dataset.\n",
    "\n",
    "Let's fix this in a manner where it should never break again:"
   ]
  },
  {
   "cell_type": "code",
   "execution_count": 34,
   "metadata": {
    "slideshow": {
     "slide_type": "fragment"
    }
   },
   "outputs": [
    {
     "data": {
      "text/html": [
       "1.146"
      ],
      "text/latex": [
       "1.146"
      ],
      "text/markdown": [
       "1.146"
      ],
      "text/plain": [
       "[1] 1.146"
      ]
     },
     "metadata": {},
     "output_type": "display_data"
    }
   ],
   "source": [
    "new_petal_width_mean <- sum(iris_new$Petal.Width) / nrow(iris_new)\n",
    "new_petal_width_mean"
   ]
  },
  {
   "cell_type": "markdown",
   "metadata": {
    "slideshow": {
     "slide_type": "notes"
    }
   },
   "source": [
    "There we go! Much better.\n",
    "\n",
    "So now it works well for all datasets (technically this would break on a dataset with 0 rows in it, but let's ignore that for now). However each time we want to use our own homebrew mean function, we have to write it out and change the code again and again. This is a lot of effort and introduces the potential for fat-fingered typos. So let's change this into a function we can call again and again."
   ]
  },
  {
   "cell_type": "code",
   "execution_count": 40,
   "metadata": {
    "slideshow": {
     "slide_type": "subslide"
    }
   },
   "outputs": [
    {
     "data": {
      "text/html": [
       "1.19933333333333"
      ],
      "text/latex": [
       "1.19933333333333"
      ],
      "text/markdown": [
       "1.19933333333333"
      ],
      "text/plain": [
       "[1] 1.199333"
      ]
     },
     "metadata": {},
     "output_type": "display_data"
    },
    {
     "data": {
      "text/html": [
       "1.146"
      ],
      "text/latex": [
       "1.146"
      ],
      "text/markdown": [
       "1.146"
      ],
      "text/plain": [
       "[1] 1.146"
      ]
     },
     "metadata": {},
     "output_type": "display_data"
    }
   ],
   "source": [
    "homebrew_pw_mean <- function(df){\n",
    "    return(sum(df$Petal.Width) / nrow(df))\n",
    "}\n",
    "homebrew_pw_mean(iris)\n",
    "homebrew_pw_mean(iris_new)"
   ]
  },
  {
   "cell_type": "markdown",
   "metadata": {
    "slideshow": {
     "slide_type": "notes"
    }
   },
   "source": [
    "This concept is called *genericisation*. Whilst not essential for repeatable analysis, generic functions are often good practice, make it easier to write similar code down the line, and are a vital part of packages (which we will address later)"
   ]
  },
  {
   "cell_type": "markdown",
   "metadata": {
    "slideshow": {
     "slide_type": "slide"
    }
   },
   "source": [
    "### An example of a repeatable script"
   ]
  },
  {
   "cell_type": "markdown",
   "metadata": {
    "slideshow": {
     "slide_type": "notes"
    }
   },
   "source": [
    "Here I am going to provide you with a commented template for a repeatable analysis script. It won't actually do anything that we care about, but it gives you an idea of how to structure a script such that it should just be able to be run again and again."
   ]
  },
  {
   "cell_type": "code",
   "execution_count": 6,
   "metadata": {
    "slideshow": {
     "slide_type": "subslide"
    }
   },
   "outputs": [
    {
     "data": {
      "text/html": [
       "<table>\n",
       "<thead><tr><th scope=col>Record.number</th><th scope=col>In.refID</th><th scope=col>IndividualID</th><th scope=col>Predator</th><th scope=col>Predator.common.name</th><th scope=col>Predator.taxon</th><th scope=col>Predator.lifestage</th><th scope=col>Type.of.feeding.interaction</th><th scope=col>Predator.mass</th><th scope=col>Prey</th><th scope=col>Prey.common.name</th><th scope=col>Prey.taxon</th><th scope=col>Prey.mass</th><th scope=col>Prey.mass.unit</th><th scope=col>Location</th></tr></thead>\n",
       "<tbody>\n",
       "\t<tr><td>1                            </td><td>ATSH063                      </td><td>1                            </td><td>Rhizoprionodon terraenovae   </td><td>Atlantic sharpnose shark     </td><td>ectotherm vertebrate         </td><td>adult                        </td><td>predacious/piscivorous       </td><td>1540.0                       </td><td>teleosts/molluscs/crustaceans</td><td>teleosts/molluscs/crustaceans</td><td>mixed                        </td><td>14.30                        </td><td>g                            </td><td>Apalachicola Bay, Florida    </td></tr>\n",
       "\t<tr><td>2                            </td><td>ATSH080                      </td><td>2                            </td><td>Rhizoprionodon terraenovae   </td><td>Atlantic sharpnose shark     </td><td>ectotherm vertebrate         </td><td>adult                        </td><td>predacious/piscivorous       </td><td>1600.0                       </td><td>teleosts/molluscs/crustaceans</td><td>teleosts/molluscs/crustaceans</td><td>mixed                        </td><td> 6.02                        </td><td>g                            </td><td>Apalachicola Bay, Florida    </td></tr>\n",
       "\t<tr><td>3                            </td><td>ATSH089                      </td><td>3                            </td><td>Rhizoprionodon terraenovae   </td><td>Atlantic sharpnose shark     </td><td>ectotherm vertebrate         </td><td>adult                        </td><td>predacious/piscivorous       </td><td>1840.0                       </td><td>teleosts/molluscs/crustaceans</td><td>teleosts/molluscs/crustaceans</td><td>mixed                        </td><td>11.90                        </td><td>g                            </td><td>Apalachicola Bay, Florida    </td></tr>\n",
       "\t<tr><td>4                            </td><td>ATSH143                      </td><td>4                            </td><td>Rhizoprionodon terraenovae   </td><td>Atlantic sharpnose shark     </td><td>ectotherm vertebrate         </td><td>adult                        </td><td>predacious/piscivorous       </td><td>  87.6                       </td><td>teleosts/molluscs/crustaceans</td><td>teleosts/molluscs/crustaceans</td><td>mixed                        </td><td> 8.12                        </td><td>g                            </td><td>Apalachicola Bay, Florida    </td></tr>\n",
       "\t<tr><td>5                            </td><td>ATSH161                      </td><td>5                            </td><td>Rhizoprionodon terraenovae   </td><td>Atlantic sharpnose shark     </td><td>ectotherm vertebrate         </td><td>adult                        </td><td>predacious/piscivorous       </td><td>  63.9                       </td><td>teleosts/molluscs/crustaceans</td><td>teleosts/molluscs/crustaceans</td><td>mixed                        </td><td> 6.56                        </td><td>g                            </td><td>Apalachicola Bay, Florida    </td></tr>\n",
       "\t<tr><td>6                            </td><td>ATSH166                      </td><td>6                            </td><td>Rhizoprionodon terraenovae   </td><td>Atlantic sharpnose shark     </td><td>ectotherm vertebrate         </td><td>adult                        </td><td>predacious/piscivorous       </td><td>  79.2                       </td><td>teleosts/molluscs/crustaceans</td><td>teleosts/molluscs/crustaceans</td><td>mixed                        </td><td> 5.41                        </td><td>g                            </td><td>Apalachicola Bay, Florida    </td></tr>\n",
       "</tbody>\n",
       "</table>\n"
      ],
      "text/latex": [
       "\\begin{tabular}{r|lllllllllllllll}\n",
       " Record.number & In.refID & IndividualID & Predator & Predator.common.name & Predator.taxon & Predator.lifestage & Type.of.feeding.interaction & Predator.mass & Prey & Prey.common.name & Prey.taxon & Prey.mass & Prey.mass.unit & Location\\\\\n",
       "\\hline\n",
       "\t 1                             & ATSH063                       & 1                             & Rhizoprionodon terraenovae    & Atlantic sharpnose shark      & ectotherm vertebrate          & adult                         & predacious/piscivorous        & 1540.0                        & teleosts/molluscs/crustaceans & teleosts/molluscs/crustaceans & mixed                         & 14.30                         & g                             & Apalachicola Bay, Florida    \\\\\n",
       "\t 2                             & ATSH080                       & 2                             & Rhizoprionodon terraenovae    & Atlantic sharpnose shark      & ectotherm vertebrate          & adult                         & predacious/piscivorous        & 1600.0                        & teleosts/molluscs/crustaceans & teleosts/molluscs/crustaceans & mixed                         &  6.02                         & g                             & Apalachicola Bay, Florida    \\\\\n",
       "\t 3                             & ATSH089                       & 3                             & Rhizoprionodon terraenovae    & Atlantic sharpnose shark      & ectotherm vertebrate          & adult                         & predacious/piscivorous        & 1840.0                        & teleosts/molluscs/crustaceans & teleosts/molluscs/crustaceans & mixed                         & 11.90                         & g                             & Apalachicola Bay, Florida    \\\\\n",
       "\t 4                             & ATSH143                       & 4                             & Rhizoprionodon terraenovae    & Atlantic sharpnose shark      & ectotherm vertebrate          & adult                         & predacious/piscivorous        &   87.6                        & teleosts/molluscs/crustaceans & teleosts/molluscs/crustaceans & mixed                         &  8.12                         & g                             & Apalachicola Bay, Florida    \\\\\n",
       "\t 5                             & ATSH161                       & 5                             & Rhizoprionodon terraenovae    & Atlantic sharpnose shark      & ectotherm vertebrate          & adult                         & predacious/piscivorous        &   63.9                        & teleosts/molluscs/crustaceans & teleosts/molluscs/crustaceans & mixed                         &  6.56                         & g                             & Apalachicola Bay, Florida    \\\\\n",
       "\t 6                             & ATSH166                       & 6                             & Rhizoprionodon terraenovae    & Atlantic sharpnose shark      & ectotherm vertebrate          & adult                         & predacious/piscivorous        &   79.2                        & teleosts/molluscs/crustaceans & teleosts/molluscs/crustaceans & mixed                         &  5.41                         & g                             & Apalachicola Bay, Florida    \\\\\n",
       "\\end{tabular}\n"
      ],
      "text/markdown": [
       "\n",
       "Record.number | In.refID | IndividualID | Predator | Predator.common.name | Predator.taxon | Predator.lifestage | Type.of.feeding.interaction | Predator.mass | Prey | Prey.common.name | Prey.taxon | Prey.mass | Prey.mass.unit | Location | \n",
       "|---|---|---|---|---|---|\n",
       "| 1                             | ATSH063                       | 1                             | Rhizoprionodon terraenovae    | Atlantic sharpnose shark      | ectotherm vertebrate          | adult                         | predacious/piscivorous        | 1540.0                        | teleosts/molluscs/crustaceans | teleosts/molluscs/crustaceans | mixed                         | 14.30                         | g                             | Apalachicola Bay, Florida     | \n",
       "| 2                             | ATSH080                       | 2                             | Rhizoprionodon terraenovae    | Atlantic sharpnose shark      | ectotherm vertebrate          | adult                         | predacious/piscivorous        | 1600.0                        | teleosts/molluscs/crustaceans | teleosts/molluscs/crustaceans | mixed                         |  6.02                         | g                             | Apalachicola Bay, Florida     | \n",
       "| 3                             | ATSH089                       | 3                             | Rhizoprionodon terraenovae    | Atlantic sharpnose shark      | ectotherm vertebrate          | adult                         | predacious/piscivorous        | 1840.0                        | teleosts/molluscs/crustaceans | teleosts/molluscs/crustaceans | mixed                         | 11.90                         | g                             | Apalachicola Bay, Florida     | \n",
       "| 4                             | ATSH143                       | 4                             | Rhizoprionodon terraenovae    | Atlantic sharpnose shark      | ectotherm vertebrate          | adult                         | predacious/piscivorous        |   87.6                        | teleosts/molluscs/crustaceans | teleosts/molluscs/crustaceans | mixed                         |  8.12                         | g                             | Apalachicola Bay, Florida     | \n",
       "| 5                             | ATSH161                       | 5                             | Rhizoprionodon terraenovae    | Atlantic sharpnose shark      | ectotherm vertebrate          | adult                         | predacious/piscivorous        |   63.9                        | teleosts/molluscs/crustaceans | teleosts/molluscs/crustaceans | mixed                         |  6.56                         | g                             | Apalachicola Bay, Florida     | \n",
       "| 6                             | ATSH166                       | 6                             | Rhizoprionodon terraenovae    | Atlantic sharpnose shark      | ectotherm vertebrate          | adult                         | predacious/piscivorous        |   79.2                        | teleosts/molluscs/crustaceans | teleosts/molluscs/crustaceans | mixed                         |  5.41                         | g                             | Apalachicola Bay, Florida     | \n",
       "\n",
       "\n"
      ],
      "text/plain": [
       "  Record.number In.refID IndividualID Predator                  \n",
       "1 1             ATSH063  1            Rhizoprionodon terraenovae\n",
       "2 2             ATSH080  2            Rhizoprionodon terraenovae\n",
       "3 3             ATSH089  3            Rhizoprionodon terraenovae\n",
       "4 4             ATSH143  4            Rhizoprionodon terraenovae\n",
       "5 5             ATSH161  5            Rhizoprionodon terraenovae\n",
       "6 6             ATSH166  6            Rhizoprionodon terraenovae\n",
       "  Predator.common.name     Predator.taxon       Predator.lifestage\n",
       "1 Atlantic sharpnose shark ectotherm vertebrate adult             \n",
       "2 Atlantic sharpnose shark ectotherm vertebrate adult             \n",
       "3 Atlantic sharpnose shark ectotherm vertebrate adult             \n",
       "4 Atlantic sharpnose shark ectotherm vertebrate adult             \n",
       "5 Atlantic sharpnose shark ectotherm vertebrate adult             \n",
       "6 Atlantic sharpnose shark ectotherm vertebrate adult             \n",
       "  Type.of.feeding.interaction Predator.mass Prey                         \n",
       "1 predacious/piscivorous      1540.0        teleosts/molluscs/crustaceans\n",
       "2 predacious/piscivorous      1600.0        teleosts/molluscs/crustaceans\n",
       "3 predacious/piscivorous      1840.0        teleosts/molluscs/crustaceans\n",
       "4 predacious/piscivorous        87.6        teleosts/molluscs/crustaceans\n",
       "5 predacious/piscivorous        63.9        teleosts/molluscs/crustaceans\n",
       "6 predacious/piscivorous        79.2        teleosts/molluscs/crustaceans\n",
       "  Prey.common.name              Prey.taxon Prey.mass Prey.mass.unit\n",
       "1 teleosts/molluscs/crustaceans mixed      14.30     g             \n",
       "2 teleosts/molluscs/crustaceans mixed       6.02     g             \n",
       "3 teleosts/molluscs/crustaceans mixed      11.90     g             \n",
       "4 teleosts/molluscs/crustaceans mixed       8.12     g             \n",
       "5 teleosts/molluscs/crustaceans mixed       6.56     g             \n",
       "6 teleosts/molluscs/crustaceans mixed       5.41     g             \n",
       "  Location                 \n",
       "1 Apalachicola Bay, Florida\n",
       "2 Apalachicola Bay, Florida\n",
       "3 Apalachicola Bay, Florida\n",
       "4 Apalachicola Bay, Florida\n",
       "5 Apalachicola Bay, Florida\n",
       "6 Apalachicola Bay, Florida"
      ]
     },
     "metadata": {},
     "output_type": "display_data"
    },
    {
     "data": {
      "text/html": [
       "<table>\n",
       "<thead><tr><th scope=col>Predator</th><th scope=col>mean_mass</th></tr></thead>\n",
       "<tbody>\n",
       "\t<tr><td>Acanthocepola sp.       </td><td>  0.00912200            </td></tr>\n",
       "\t<tr><td>Ammodytes hexapterus    </td><td>  0.09127324            </td></tr>\n",
       "\t<tr><td>Anarhichas lupus        </td><td>  0.14158468            </td></tr>\n",
       "\t<tr><td>Anarhichas minor        </td><td>  0.22757436            </td></tr>\n",
       "\t<tr><td>Arnoglossus imperialis  </td><td> 19.30000000            </td></tr>\n",
       "\t<tr><td>Aspitrigla cuculus      </td><td>178.86250000            </td></tr>\n",
       "</tbody>\n",
       "</table>\n"
      ],
      "text/latex": [
       "\\begin{tabular}{r|ll}\n",
       " Predator & mean\\_mass\\\\\n",
       "\\hline\n",
       "\t Acanthocepola sp.        &   0.00912200            \\\\\n",
       "\t Ammodytes hexapterus     &   0.09127324            \\\\\n",
       "\t Anarhichas lupus         &   0.14158468            \\\\\n",
       "\t Anarhichas minor         &   0.22757436            \\\\\n",
       "\t Arnoglossus imperialis   &  19.30000000            \\\\\n",
       "\t Aspitrigla cuculus       & 178.86250000            \\\\\n",
       "\\end{tabular}\n"
      ],
      "text/markdown": [
       "\n",
       "Predator | mean_mass | \n",
       "|---|---|---|---|---|---|\n",
       "| Acanthocepola sp.        |   0.00912200             | \n",
       "| Ammodytes hexapterus     |   0.09127324             | \n",
       "| Anarhichas lupus         |   0.14158468             | \n",
       "| Anarhichas minor         |   0.22757436             | \n",
       "| Arnoglossus imperialis   |  19.30000000             | \n",
       "| Aspitrigla cuculus       | 178.86250000             | \n",
       "\n",
       "\n"
      ],
      "text/plain": [
       "  Predator                 mean_mass   \n",
       "1 Acanthocepola sp.          0.00912200\n",
       "2 Ammodytes hexapterus       0.09127324\n",
       "3 Anarhichas lupus           0.14158468\n",
       "4 Anarhichas minor           0.22757436\n",
       "5 Arnoglossus imperialis    19.30000000\n",
       "6 Aspitrigla cuculus       178.86250000"
      ]
     },
     "metadata": {},
     "output_type": "display_data"
    },
    {
     "data": {
      "image/png": "[encoded data removed]",
      "text/plain": [
       "plot without title"
      ]
     },
     "metadata": {},
     "output_type": "display_data"
    }
   ],
   "source": [
    "# Clean the workspace to make sure nothing gets in the way\n",
    "rm(list=ls())\n",
    "\n",
    "# Load required packages using library or require\n",
    "library(ggplot2)\n",
    "library(dplyr)\n",
    "\n",
    "# Define functions we will use later\n",
    "generate_pred_mean_masses <- function(df){\n",
    "    pred_mean_mass <- df %>% group_by(Predator) %>% summarise(mean_mass = mean(Predator.mass))\n",
    "}\n",
    "\n",
    "# Load the data we are using, making sure to use RELATIVE PATHS\n",
    "df <- read.csv(\"../data/EcolArchives-E089-51-D1.csv\")\n",
    "\n",
    "# Note, I am only printing the top few entries in the datasets to show what is going on.\n",
    "# In general you only want to be printing in an analysis script when you have something useful to show (i.e. output statistics)\n",
    "# Don't just print for sanity checking in the final script as it can slow down a script significantly\n",
    "head(df)  \n",
    "\n",
    "# Perform data wrangling, generate useful measures, perform analysis etc.\n",
    "pred_mean_mass <- generate_pred_mean_masses(df)\n",
    "head(pred_mean_mass)\n",
    "\n",
    "# Do some sort of plotting\n",
    "p <- ggplot(data = df, aes(x = Predator.mass, y = Prey.mass)) + geom_point() + geom_smooth()\n",
    "# print(p)\n",
    "\n",
    "# Save outputs if needed.\n",
    "# pdf(\"testplot.pdf\")\n",
    "print(ggplot(data = df, aes(x = log(Prey.mass))) + geom_density())\n",
    "# dev.off()"
   ]
  },
  {
   "cell_type": "markdown",
   "metadata": {},
   "source": [
    "### First Task"
   ]
  },
  {
   "cell_type": "markdown",
   "metadata": {},
   "source": [
    "Your first task, should you choose to accept it is to create your own repeatable analysis for some of the VecDyn/VecTraits data.\n",
    "\n",
    "This script should run from start to finish, only printing out results and graphs.\n",
    "\n",
    "This should be a relatively simple task for anyone fluent in R, but nonetheless it is good practice."
   ]
  },
  {
   "cell_type": "markdown",
   "metadata": {},
   "source": [
    "Now of course, we could make this more generic, by making the script take the file to read as an argument from the command line. For now though we're going to leave repeatability alone and move on to the main focus for today: **Packages**."
   ]
  },
  {
   "cell_type": "markdown",
   "metadata": {
    "slideshow": {
     "slide_type": "slide"
    }
   },
   "source": [
    "---\n",
    "## Packages"
   ]
  },
  {
   "cell_type": "markdown",
   "metadata": {
    "slideshow": {
     "slide_type": "notes"
    }
   },
   "source": [
    "Packages are something written by a better programmer to solve our problems so we don't have to, right?\n",
    "\n",
    "Well, kind of...\n",
    "But why can't **WE** be that \"better programmer\"?\n",
    "\n",
    "What makes them so special?\n",
    "\n",
    "The answer is nothing. Package designers are simply normal people who had a problem, solved it, and realised that they could help others do the same thing. What we're aiming to do today is to demystify packages and show that you can help countless people with not too much effort thanks to careful programming and a bit of foresight.\n",
    "\n",
    "<sub>Disclaimer: Some things about packages are a bit fiddly. I will not be held responsible for any loss of sanity or forehead damage to keyboards caused by looking at packages. Only use packages under parental supervision. Not suitable for ages 6 and above.</sub>"
   ]
  },
  {
   "cell_type": "markdown",
   "metadata": {},
   "source": [
    "### The multifunction breadmaker"
   ]
  },
  {
   "cell_type": "markdown",
   "metadata": {},
   "source": [
    "To extend the analogy I made at the start, packages are like a breadmaker with multiple functions. It helps you perform a certain task, but with plenty of flexibility within that task."
   ]
  },
  {
   "cell_type": "markdown",
   "metadata": {
    "slideshow": {
     "slide_type": "slide"
    }
   },
   "source": [
    "### The structure of an R package"
   ]
  },
  {
   "cell_type": "markdown",
   "metadata": {
    "slideshow": {
     "slide_type": "notes"
    }
   },
   "source": [
    "An R package in its most basic form follows this structure:"
   ]
  },
  {
   "cell_type": "markdown",
   "metadata": {
    "slideshow": {
     "slide_type": "subslide"
    }
   },
   "source": [
    "```\n",
    ". package_directory\n",
    "├── DESCRIPTION\n",
    "├── man\n",
    "│   └── stuff.Rd\n",
    "├── NAMESPACE\n",
    "└── R\n",
    "    └── stuff.R\n",
    "```"
   ]
  },
  {
   "cell_type": "markdown",
   "metadata": {
    "slideshow": {
     "slide_type": "notes"
    }
   },
   "source": [
    "The `DESCRIPTION` file contains the *important metadata about your package*. This includes the following information (though this is not by any means an exhaustive list):\n",
    "\n",
    "- Name\n",
    "- Title\n",
    "- Version\n",
    "- Description\n",
    "- Authors & Contributors\n",
    "- License\n",
    "- Dependencies (we will talk more about this one in a bit)\n",
    "\n",
    "The `NAMESPACE` file controls *how the functions you have created are available* to someone loading the package. Whilst this can be done by hand, it is often better to use a package like `roxygen2` to generate these for us. **(FW: Give example)**\n",
    "\n",
    "Finally the `R` directory contains the *main R code* of the package. This is where the real hard graft comes in when creating a package. We will be predominantly focusing on this section of the package today, looking at the elements and stylistic choices you should consider when writing functions for others to use."
   ]
  }
 ],
 "metadata": {
  "kernelspec": {
   "display_name": "R",
   "language": "R",
   "name": "ir"
  },
  "language_info": {
   "codemirror_mode": "r",
   "file_extension": ".r",
   "mimetype": "text/x-r-source",
   "name": "R",
   "pygments_lexer": "r",
   "version": "3.4.4"
  },
  "latex_envs": {
   "LaTeX_envs_menu_present": true,
   "autoclose": false,
   "autocomplete": false,
   "bibliofile": "biblio.bib",
   "cite_by": "apalike",
   "current_citInitial": 1,
   "eqLabelWithNumbers": true,
   "eqNumInitial": 1,
   "hotkeys": {
    "equation": "Ctrl-E",
    "itemize": "Ctrl-I"
   },
   "labels_anchors": false,
   "latex_user_defs": false,
   "report_style_numbering": false,
   "user_envs_cfg": false
  },
  "toc": {
   "base_numbering": 1,
   "nav_menu": {},
   "number_sections": true,
   "sideBar": true,
   "skip_h1_title": false,
   "title_cell": "Table of Contents",
   "title_sidebar": "Contents",
   "toc_cell": true,
   "toc_position": {},
   "toc_section_display": true,
   "toc_window_display": false
  }
 },
 "nbformat": 4,
 "nbformat_minor": 2
}
