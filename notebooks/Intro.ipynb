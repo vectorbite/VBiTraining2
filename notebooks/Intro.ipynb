{
 "cells": [
  {
   "cell_type": "markdown",
   "metadata": {},
   "source": [
    "<!--NAVIGATION-->\n",
    "< | [Main Contents](https://nbviewer.jupyter.org/github/vectorbite/VBiTraining2/tree/master/notebooks) | >"
   ]
  },
  {
   "cell_type": "markdown",
   "metadata": {},
   "source": [
    "# Welcome to the <img style='display:inline;' src=\"graphics/VB_logo.jpg\" alt=\"VBiTE Logo\" width=\"75\"> Training Workshop!  <span class=\"tocSkip\">\n",
    "\n",
    "*Please visit the [landing page](https://vectorbite.github.io/VBiTraining2) first if you have not already. It includes the workshop schedule and important instructions, including how to prepare for the workshop.*"
   ]
  },
  {
   "cell_type": "markdown",
   "metadata": {
    "toc": true
   },
   "source": [
    "<h1>Table of Contents<span class=\"tocSkip\"></span></h1>\n",
    "<div class=\"toc\"><ul class=\"toc-item\"><li><span><a href=\"#Introduction\" data-toc-modified-id=\"Introduction-1\"><span class=\"toc-item-num\">1&nbsp;&nbsp;</span>Introduction</a></span></li><li><span><a href=\"#Keeping-your-workflow-organized\" data-toc-modified-id=\"Keeping-your-workflow-organized-2\"><span class=\"toc-item-num\">2&nbsp;&nbsp;</span>Keeping your workflow organized</a></span></li><li><span><a href=\"#Conventions-used-in-this-document\" data-toc-modified-id=\"Conventions-used-in-this-document-3\"><span class=\"toc-item-num\">3&nbsp;&nbsp;</span>Conventions used in this document</a></span></li><li><span><a href=\"#Other-Preliminaries\" data-toc-modified-id=\"Other-Preliminaries-4\"><span class=\"toc-item-num\">4&nbsp;&nbsp;</span>Other Preliminaries</a></span></li></ul></div>"
   ]
  },
  {
   "cell_type": "markdown",
   "metadata": {},
   "source": [
    "## Introduction\n",
    "\n",
    "These [jupyter](https://jupyter.org/) notebooks contain the content of the [VectorBiTE 2019 Training workshop](https://vectorbite.github.io/VBiTraining2/). All these materials  are available at a [git repository](https://github.com/vectorbite/VBiTraining2).\n",
    "\n",
    "These notebooks are accompanied by data and code on which you can practice your skills during the training sessions and in your own time.  If you do not use git, you may download the code, data, these notes, and other course materials from the repository at one go by clicking on the green \"Clone or download\" button. You can then unzip the downloaded .zip and grab the files you need.\n",
    "\n",
    "It is important that you work through the exercises and problems in each chapter/section. This document does not tell you every single thing you need to know to perform the exercises in it. In programming and computing, you learn faster by trying to solve problems (including computer crashes!) on your own, often by liberally googling the problem!\n",
    "\n",
    "## Keeping your workflow organized\n",
    "\n",
    "In the training sessions, you will practice many examples where you are required to write large blocks of code. Please get into the habit of writing code into text files with an appropriate extension (e.g., `.R` for `R` code, `.py` for `python` code, etc.). Furthermore, please keep all your code files organized in one or more directories (e.g., named `code`). Similarly, some of these scripts will take data files as inputs, and output some results in the form of text or graphics. Please keep these inputs and outputs organized as well, in separate directories (e.g., named `data` and `results`) respectively. \n",
    "\n",
    "Thus in general, \n",
    "\n",
    "1. *Create separate `code`, `data`, `results` directories* within your VBiTE Training week directory, and set your `R` working directory (using `setwd()`) to `code`. \n",
    "2. *Build separate R scripts for each of the examples given within various topics*. For example, for the [Trait Allometry example](ModelFitting.ipynb#Allometric-scaling-of-traits), create a new R script file called `Allometry_nlls.R` and save it to your `code` directory. Then build your script for tackling this particular example in that file. Note also that you will need to re-load packages (using `library()` or ``require()``) at the start of every such script file you develop. \n",
    " \n",
    "We will help you get set up and abide by this project organization and \"workflow\". Examples of this are in the [R pre-work](https://vectorbite.github.io/VBiTraining2/#pre-work--preparation) that was assigned before the Workshop started. Specifically, [here](https://nbviewer.jupyter.org/github/mhasoba/TheMulQuaBio/blob/master/notebooks/07-R.ipynb#Your-analysis-workflow).\n",
    "\n",
    "## Conventions used in this document\n",
    "\n",
    "Throughout these sessions, directory paths will be specified in UNIX (Mac, Linux) style, using `/` instead of the `\\` used in Windows. Also, in general, we will be using [relative paths](https://en.wikipedia.org/wiki/Path_(computing)) throughout the exercises and practicals (more on this later, but feel free to  google it!).\n",
    "\n",
    "You will find all command line/console arguments, code snippets and output in coloured boxes like this:\n",
    "\n",
    "`>`\n",
    "\n",
    "## Other Preliminaries \n",
    "\n",
    "You will  learn multiple techniques here (NLLS, MLE and Bayesian methods, etc) through examples. These notes assume that you have already seen [lectures](https://github.com/vectorbite/VBiTraining2/tree/master/lectures) on these and related topics. \n",
    "\n",
    "Final note: you may use [RStudio](https://www.rstudio.com) or any other code editor you prefer.\n",
    "\n",
    "You may now want to go to the [main contents](https://nbviewer.jupyter.org/github/vectorbite/VBiTraining2/tree/master/notebooks)."
   ]
  }
 ],
 "metadata": {
  "anaconda-cloud": {},
  "kernelspec": {
   "display_name": "R",
   "language": "R",
   "name": "ir"
  },
  "language_info": {
   "codemirror_mode": "r",
   "file_extension": ".r",
   "mimetype": "text/x-r-source",
   "name": "R",
   "pygments_lexer": "r",
   "version": "3.4.4"
  },
  "latex_envs": {
   "LaTeX_envs_menu_present": true,
   "autoclose": false,
   "autocomplete": false,
   "bibliofile": "biblio.bib",
   "cite_by": "apalike",
   "current_citInitial": 1,
   "eqLabelWithNumbers": true,
   "eqNumInitial": 1,
   "hotkeys": {
    "equation": "Ctrl-E",
    "itemize": "Ctrl-I"
   },
   "labels_anchors": false,
   "latex_user_defs": false,
   "report_style_numbering": false,
   "user_envs_cfg": false
  },
  "toc": {
   "base_numbering": 1,
   "nav_menu": {
    "height": "51px",
    "width": "250px"
   },
   "number_sections": true,
   "sideBar": true,
   "skip_h1_title": false,
   "title_cell": "Table of Contents",
   "title_sidebar": "Contents",
   "toc_cell": true,
   "toc_position": {},
   "toc_section_display": "block",
   "toc_window_display": false
  }
 },
 "nbformat": 4,
 "nbformat_minor": 1
}
