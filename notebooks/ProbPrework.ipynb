{
 "cells": [
  {
   "cell_type": "markdown",
   "metadata": {},
   "source": [
    "# Probability / Likelihoods Pre-work <a class=\"tocSkip\">"
   ]
  },
  {
   "cell_type": "markdown",
   "metadata": {},
   "source": [
    "<!--NAVIGATION-->\n",
    "\n",
    "<[Back to Workshop Contents](Index.ipynb)>"
   ]
  },
  {
   "cell_type": "markdown",
   "metadata": {
    "toc": true
   },
   "source": [
    "<h1>Table of Contents<span class=\"tocSkip\"></span></h1>\n",
    "<div class=\"toc\"><ul class=\"toc-item\"><li><span><a href=\"#The-Binomial-Distribution\" data-toc-modified-id=\"The-Binomial-Distribution-1\"><span class=\"toc-item-num\">1&nbsp;&nbsp;</span>The Binomial Distribution</a></span><ul class=\"toc-item\"><li><span><a href=\"#Simulating-from-the-Binomial-using-R\" data-toc-modified-id=\"Simulating-from-the-Binomial-using-R-1.1\"><span class=\"toc-item-num\">1.1&nbsp;&nbsp;</span>Simulating from the Binomial using R</a></span></li><li><span><a href=\"#Method-of-Moments-(MoM)-Estimators\" data-toc-modified-id=\"Method-of-Moments-(MoM)-Estimators-1.2\"><span class=\"toc-item-num\">1.2&nbsp;&nbsp;</span>Method of Moments (MoM) Estimators</a></span></li><li><span><a href=\"#MLE-for-Binomial-Distribution\" data-toc-modified-id=\"MLE-for-Binomial-Distribution-1.3\"><span class=\"toc-item-num\">1.3&nbsp;&nbsp;</span>MLE for Binomial Distribution</a></span><ul class=\"toc-item\"><li><span><a href=\"#Likelihood-and-Log-Likelihood\" data-toc-modified-id=\"Likelihood-and-Log-Likelihood-1.3.1\"><span class=\"toc-item-num\">1.3.1&nbsp;&nbsp;</span>Likelihood and Log Likelihood</a></span></li></ul></li><li><span><a href=\"#Computing-the-likelihood-and-MLE-in-R\" data-toc-modified-id=\"Computing-the-likelihood-and-MLE-in-R-1.4\"><span class=\"toc-item-num\">1.4&nbsp;&nbsp;</span>Computing the likelihood and MLE in R</a></span></li></ul></li></ul></div>"
   ]
  },
  {
   "cell_type": "markdown",
   "metadata": {},
   "source": [
    "## The Binomial Distribution\n",
    "\n",
    "Used to model the number of \"successes\" in a set of trials (e.g., number of heads when you flip a coin $N$ times). The pmf is  \n",
    "$$\n",
    "{N \\choose x} p^x(1-p)^{N-x}\n",
    "$$\n",
    "such that $\\mathrm{E}[x]=Np$. Throughout this \"experiment\", you will assume that your experiment consists of flipping 20 coins, so that $N=20$.\n",
    "\n",
    "You will use the Binomial distribution to practice two methods of estimating parameters for a probability distribution: method of moments and maximum likelihood.\n",
    "\n",
    "### Simulating from the Binomial using R\n",
    "\n",
    "Take 50 draws from a binomial (using _rbinom_) for each $p\\in$ 0.1, 0.5, 0.8 with $N=20$. \n",
    "\n"
   ]
  },
  {
   "cell_type": "code",
   "execution_count": 1,
   "metadata": {},
   "outputs": [],
   "source": [
    "## 50 draws with each p \n",
    "pp<-c(0.1, 0.5, 0.8)\n",
    "N<-20\n",
    "reps<-50 "
   ]
  },
  {
   "cell_type": "markdown",
   "metadata": {},
   "source": [
    "Now plot the histograms of these draws together with the density functions."
   ]
  },
  {
   "cell_type": "code",
   "execution_count": 3,
   "metadata": {},
   "outputs": [],
   "source": [
    "## histograms + density here\n",
    "x<-seq(0, 50, by=1)\n",
    "par(mfrow=c(1,3), bty=\"n\")"
   ]
  },
  {
   "cell_type": "markdown",
   "metadata": {},
   "source": [
    "**Q1: Do the histograms look like the distributions for all 3 values of $p$? If not, what do you think is going on?**\n",
    "\n",
    "You'll notice that for $p=0.1$ the histogram and densities don't look quite the same -- the `hist()` function is lumping together the zeros and ones which makes it look off. This is typical for distributions that are truncated.\n",
    "\n",
    "### Method of Moments (MoM) Estimators\n",
    "\n",
    "To obtain a method of moments estimator, we equate the theoretical moments (which will be a function of the parameters of the distribution) with the corresponding sample moments, and solve for the parameters in order to obtain an estimate. For the binomial distribution, there is only one parameter, $p$. \n",
    "\n",
    "**Q2: Given the analytic expected value, above, and assuming that the sample mean is $m$ (the mean number of observed heads across replicates), what is the MoM estimator for $p$?**\n",
    "\n",
    "Now calculate the MoM estimator for each of your 3 sets of simulated data sets to get the estimates for each of your values of $p$."
   ]
  },
  {
   "cell_type": "code",
   "execution_count": 5,
   "metadata": {},
   "outputs": [],
   "source": [
    "## MOM estimators for 3 simulated sets\n"
   ]
  },
  {
   "cell_type": "markdown",
   "metadata": {},
   "source": [
    "**Q3: How good are your estimates for $p$? Do you get something close to the true value?**\n",
    "\n",
    "For 1 of your values of $p$, take 20 draws from the binomial with $N=20$ and calculate the MoM. Repeat this 100 times (hint: the `replicate()` and `lapply` functions may be useful.) Make a histogram of your estimates, and  add a line/point to the plot to indicate the real value of $p$ that you used to simulate the data. "
   ]
  },
  {
   "cell_type": "code",
   "execution_count": null,
   "metadata": {},
   "outputs": [],
   "source": [
    "## MoM estimates, histogram "
   ]
  },
  {
   "cell_type": "markdown",
   "metadata": {},
   "source": [
    "**Q4: Is the MoM successfully estimating $p$? Does your histogram for $p$ look more or less normal? If so, what theorem might explain why this would be the case?** \n",
    "\n",
    "### MLE for Binomial Distribution\n",
    "\n",
    "#### Likelihood and Log Likelihood\n",
    "\n",
    "Imagine that you flip a coin $N$ times, and then repeat the experiment $n$ times. Thus, you have data $x=x`1, x`2, \\dots x`n$ that are the number of times you observed a head in each trial. $p$ is the probability of obtaining a head. \n",
    "\n",
    "**Q5: Write down the likelihood and log-likelihood for the data. Take the derivative of the negative log-likelihood, set this equal to zero, and find the MLE, $\\hat{p}$.** \n",
    "\n",
    "\n",
    "### Computing the likelihood and MLE in R\n",
    "\n",
    "Simulate some data with $p=0.25$, $N=10$, and 10 replicates. Calculate the negative log-likelihood of your simulated data across a range of $p$ (from 0 to 1), and plot them. You may do this by using the built in functions in R (specifically `dbinom`) or write your own function. This is called a \"likelihood profile''. Plot your likelihood profile with a line indicating the true value of $p$. Add lines indicating the MLE $\\hat{p}$ and the MoM estimator for $p$ to your likelihood profile. "
   ]
  },
  {
   "cell_type": "code",
   "execution_count": 4,
   "metadata": {},
   "outputs": [],
   "source": [
    "pp<-.25\n",
    "N<-10\n",
    "reps<-10\n",
    "## Make one set of data\n",
    "\n",
    "## the likelihood is always exactly zero\n",
    "## at p=0,1, so I skip those values\n",
    "ps<-seq(0.01, 0.99, by=0.01) \n",
    "\n",
    "## Likelihood\n",
    "\n",
    "\n",
    "## MLE/MoM estimators \n",
    "\n",
    "## now plot the negative log likelihood profile\n"
   ]
  },
  {
   "cell_type": "markdown",
   "metadata": {},
   "source": [
    "**Q6: How does your MLE compare to the true value? If you chose another version of the random seed, do you get the same answer?**"
   ]
  }
 ],
 "metadata": {
  "kernelspec": {
   "display_name": "R",
   "language": "R",
   "name": "ir"
  },
  "language_info": {
   "codemirror_mode": "r",
   "file_extension": ".r",
   "mimetype": "text/x-r-source",
   "name": "R",
   "pygments_lexer": "r",
   "version": "3.4.4"
  },
  "latex_envs": {
   "LaTeX_envs_menu_present": true,
   "autoclose": false,
   "autocomplete": false,
   "bibliofile": "biblio.bib",
   "cite_by": "apalike",
   "current_citInitial": 1,
   "eqLabelWithNumbers": true,
   "eqNumInitial": 1,
   "hotkeys": {
    "equation": "Ctrl-E",
    "itemize": "Ctrl-I"
   },
   "labels_anchors": false,
   "latex_user_defs": false,
   "report_style_numbering": false,
   "user_envs_cfg": false
  },
  "toc": {
   "base_numbering": 1,
   "nav_menu": {},
   "number_sections": true,
   "sideBar": true,
   "skip_h1_title": false,
   "title_cell": "Table of Contents",
   "title_sidebar": "Contents",
   "toc_cell": true,
   "toc_position": {},
   "toc_section_display": true,
   "toc_window_display": false
  }
 },
 "nbformat": 4,
 "nbformat_minor": 2
}
